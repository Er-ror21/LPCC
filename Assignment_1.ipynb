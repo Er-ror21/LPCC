{
  "cells": [
    {
      "cell_type": "code",
      "execution_count": null,
      "metadata": {
        "id": "X6hWmXwWTHcL"
      },
      "outputs": [],
      "source": [
        "from google.colab import drive"
      ]
    },
    {
      "cell_type": "code",
      "execution_count": null,
      "metadata": {
        "colab": {
          "base_uri": "https://localhost:8080/"
        },
        "id": "COTkx05rTV1B",
        "outputId": "8c7315d2-7067-4093-85e7-c19a922582d0"
      },
      "outputs": [
        {
          "name": "stdout",
          "output_type": "stream",
          "text": [
            "Mounted at /content/drive\n"
          ]
        }
      ],
      "source": [
        "drive.mount('/content/drive')"
      ]
    },
    {
      "cell_type": "markdown",
      "metadata": {
        "id": "IDcyI6ymboao"
      },
      "source": [
        "Task3"
      ]
    },
    {
      "cell_type": "code",
      "execution_count": 1,
      "metadata": {
        "colab": {
          "base_uri": "https://localhost:8080/"
        },
        "id": "tX9Nzx-pSkXk",
        "outputId": "e756b378-437f-4c48-8510-6d826de64f2c"
      },
      "outputs": [
        {
          "name": "stdout",
          "output_type": "stream",
          "text": [
            "Symbol table: \n",
            " {'L1': '202', 'NEXT': '206', 'BACK': '211', 'X': '215'} \n",
            "\n",
            "Literal table: \n",
            " [['5', 204], ['2', 205], ['1', 209], ['2', 210]] \n",
            "\n",
            "Pool table: \n",
            " [0, 2, 4]\n"
          ]
        }
      ],
      "source": [
        "import numpy as np\n",
        "# import pprint\n",
        "\n",
        "emot = np.array([\n",
        "        [\"STOP\" , \"1\", \"00\"],\n",
        "        [\"ADD\", \"1\", \"01\"],\n",
        "        [\"SUB\", \"1\", \"02\"],\n",
        "        [\"MULT\", \"1\", \"03\"],\n",
        "        [\"MOVER\", \"1\", \"04\"],\n",
        "        [\"MOVEM\", \"1\", \"05\"],\n",
        "        [\"COMP\", \"1\", \"06\"],\n",
        "        [\"BC\", \"1\", \"07\"],\n",
        "        [\"DIV\", \"1\", \"08\"],\n",
        "        [\"READ\", \"1\", \"09\"],\n",
        "        [\"PRINT\", \"1\", \"10\"],\n",
        "        [\"START\", \"3\", \"01\"],\n",
        "        [\"END\", \"3\", \"02\"],\n",
        "        [\"ORIGIN\", \"3\", \"03\"],\n",
        "        [\"EQU\", \"3\", \"04\"],\n",
        "        [\"LTORG\", \"3\", \"05\"],\n",
        "        [\"DS\", \"2\", \"01\"],\n",
        "        [\"DC\", \"2\", \"02\"],\n",
        "        [\"AREG\", \"4\", \"01\"],\n",
        "        [\"BREG\", \"4\", \"02\"],\n",
        "        [\"CREG\", \"4\", \"03\"],\n",
        "        [\"EQ\", \"5\", \"01\"],\n",
        "        [\"LQ\", \"5\", \"02\"],\n",
        "        [\"GT\", \"5\", \"03\"],\n",
        "        [\"NE\", \"5\", \"04\"],\n",
        "        [\"LE\", \"5\", \"05\"],\n",
        "        [\"GE\", \"5\", \"06\"],\n",
        "        [\"ANY\", \"5\", \"07\"],\n",
        "    ])\n",
        "\n",
        "st = {}\n",
        "lt = []\n",
        "pt = [0]\n",
        "LC = 0\n",
        "LTstart = -1\n",
        "iLT = 0\n",
        "iPT = 0\n",
        "\n",
        "\n",
        "f = open('input.txt').read().replace(',','')\n",
        "# f = open('code_w2_t3.txt').read().replace(',','')\n",
        "code = f.split('\\n')\n",
        "alp_code = []\n",
        "for line in code:\n",
        "    temp_list = line.split()\n",
        "    alp_code.append(temp_list)\n",
        "\n",
        "\n",
        "\n",
        "for line in alp_code:\n",
        "    if \"END\" in line:\n",
        "        break\n",
        "    \n",
        "    is_ltorg = False\n",
        "\n",
        "    for word in line:\n",
        "        if word==\"START\":\n",
        "            index_of_lc = line.index(\"START\") + 1\n",
        "            index_of_line = alp_code.index(line)\n",
        "            LC = int(alp_code[index_of_line][index_of_lc])-1\n",
        "            break\n",
        "\n",
        "        \n",
        "        if not(word in emot[:,0]) and not(word.isnumeric()) and not(word in st) and line.index(word) == 0:\n",
        "            st[word] = str(LC)\n",
        "        \n",
        "        '''\n",
        "        how to check if current literal is in same pool or different pool\n",
        "        '''\n",
        "        if word[0]=='=':\n",
        "            lt.append([word[2], ''])  \n",
        "            iLT+=1\n",
        "\n",
        "        # LTORG\n",
        "        if word == \"LTORG\":\n",
        "            is_ltorg = True\n",
        "            LTstart = pt[iPT]\n",
        "\n",
        "\n",
        "            # update current pool of literals\n",
        "            for i in range(LTstart, iLT):\n",
        "                # literal = lt[i]\n",
        "                # lt[lt.index(literal)] = list([literal, LC])\n",
        "                lt[i][1] = LC \n",
        "                LC+=1\n",
        "            \n",
        "            \n",
        "            # update pool table index and pool table\n",
        "            iPT+=1\n",
        "            pt.append(iLT)\n",
        "\n",
        "    # if LC is already updated by LTORG then don't update again\n",
        "    if not(is_ltorg):\n",
        "        LC+=1\n",
        "\n",
        "# storing literal address for remaining literals\n",
        "for i in range(0, len(lt)):\n",
        "    if(lt[i][1]==\"\"):\n",
        "      lt[i][1] = LC\n",
        "      LC+=1\n",
        "    \n",
        "print('Symbol table: \\n', st, '\\n')\n",
        "print('Literal table: \\n',lt, '\\n')\n",
        "print('Pool table: \\n',pt)"
      ]
    },
    {
      "cell_type": "markdown",
      "metadata": {
        "id": "iTgZCnE-brWQ"
      },
      "source": [
        "Task4"
      ]
    },
    {
      "cell_type": "code",
      "execution_count": 2,
      "metadata": {},
      "outputs": [
        {
          "name": "stdout",
          "output_type": "stream",
          "text": [
            "[['START', '200'], ['MOVER', 'AREG', \"='5'\"], ['MOVEM', 'AREG', 'X'], ['L1', 'MOVER', 'BREG', \"='2'\"], ['ORIGIN', 'L1+3'], ['LTORG'], ['NEXT', 'ADD', 'AREG', \"='1'\"], ['SUB', 'BREG', \"='2'\"], ['BC', 'LT', 'BACK'], ['LTORG'], ['BACK', 'EQU', 'L1'], ['ORIGIN', 'NEXT+9'], ['MULT', 'CREG', 'X'], ['STOP'], ['X', 'DS', '1'], ['END']]\n"
          ]
        }
      ],
      "source": [
        "print(alp_code)"
      ]
    },
    {
      "cell_type": "code",
      "execution_count": 5,
      "metadata": {
        "colab": {
          "base_uri": "https://localhost:8080/"
        },
        "id": "HEw0opj3bieO",
        "outputId": "49004a56-cae8-4ad5-8fe9-e2e7fa3277e9"
      },
      "outputs": [
        {
          "name": "stdout",
          "output_type": "stream",
          "text": [
            "branch on conidtion :  209\n",
            "Symbol table: \n",
            " {'X': 220, 'L1': 202, 'NEXT': 207, 'BACK': 202} \n",
            "\n",
            "Literal table: \n",
            " [['5', 205], ['2', 206], ['1', 210], ['2', 211], ['7', 221], ['9', 222]] \n",
            "\n",
            "Pool table: \n",
            " [0, 2, 4]\n",
            "[200, 201, 202, 205, 206, 207, 208, 209, 210, 211, 212, 216, 217, 218, 219, 220]\n"
          ]
        }
      ],
      "source": [
        "import numpy as np\n",
        "\n",
        "emot = np.array([\n",
        "        [\"STOP\" , \"1\", \"00\"],\n",
        "        [\"ADD\", \"1\", \"01\"],\n",
        "        [\"SUB\", \"1\", \"02\"],\n",
        "        [\"MULT\", \"1\", \"03\"],\n",
        "        [\"MOVER\", \"1\", \"04\"],\n",
        "        [\"MOVEM\", \"1\", \"05\"],\n",
        "        [\"COMP\", \"1\", \"06\"],\n",
        "        [\"BC\", \"1\", \"07\"],\n",
        "        [\"DIV\", \"1\", \"08\"],\n",
        "        [\"READ\", \"1\", \"09\"],\n",
        "        [\"PRINT\", \"1\", \"10\"],\n",
        "        [\"START\", \"3\", \"01\"],\n",
        "        [\"END\", \"3\", \"02\"],\n",
        "        [\"ORIGIN\", \"3\", \"03\"],\n",
        "        [\"EQU\", \"3\", \"04\"],\n",
        "        [\"LTORG\", \"3\", \"05\"],\n",
        "        [\"DS\", \"2\", \"01\"],\n",
        "        [\"DC\", \"2\", \"02\"],\n",
        "        [\"AREG\", \"4\", \"01\"],\n",
        "        [\"BREG\", \"4\", \"02\"],\n",
        "        [\"CREG\", \"4\", \"03\"],\n",
        "        [\"EQ\", \"5\", \"01\"],\n",
        "        [\"LT\", \"5\", \"02\"],\n",
        "        [\"GT\", \"5\", \"03\"],\n",
        "        [\"NE\", \"5\", \"04\"],\n",
        "        [\"LE\", \"5\", \"05\"],\n",
        "        [\"GE\", \"5\", \"06\"],\n",
        "        [\"ANY\", \"5\", \"07\"],\n",
        "    ])\n",
        "\n",
        "st = {}\n",
        "lt = []\n",
        "pt = [0]\n",
        "LTstart = -1\n",
        "iLT = 0\n",
        "iPT = 0\n",
        "\n",
        "\n",
        "f = open('input.txt').read().replace(',','')\n",
        "code = f.split('\\n')\n",
        "alp_code = []\n",
        "lclist = []\n",
        "\n",
        "for line in code:\n",
        "    temp_list = line.split()\n",
        "    alp_code.append(temp_list)\n",
        "\n",
        "\n",
        "# pass-1 of assembler\n",
        "for line in alp_code:\n",
        "  # if end of assembly program\n",
        "    if \"END\" in line:\n",
        "        break\n",
        "\n",
        "  # Get LC\n",
        "    if \"START\" in line:\n",
        "      LC = int(line[1])\n",
        "      continue\n",
        "\n",
        "  # Handling ORIGIN\n",
        "    if \"ORIGIN\" in line:\n",
        "      if '+' in line[1]:        \n",
        "        label = line[1].split('+')\n",
        "        LC = int(st[label[0]]) + int(label[1])      \n",
        "      elif '-' in line[1]:        \n",
        "        label = line[1].split('-')\n",
        "        LC = int(st[label[0]]) - int(label[1])\n",
        "      else:\n",
        "        LC = int(st[line[1]])\n",
        "      continue\n",
        "\n",
        "  # Handling EQU\n",
        "    if \"EQU\" in line:\n",
        "      of_label = line[2]\n",
        "      to_label = line[0]\n",
        "      st[to_label] = st[of_label]\n",
        "      lclist.append(LC)\n",
        "      continue\n",
        "    \n",
        "    is_ltorg = False\n",
        "\n",
        "  # Handling DS and DC\n",
        "    if 'DS' in line:\n",
        "      if line[0] in st.keys():\n",
        "        # if symbol already added in symbol table\n",
        "        st.update({line[0]: LC}) \n",
        "      else:\n",
        "        # insert this symbol in symbol table\n",
        "        st[line[0]] = LC\n",
        "      lclist.append(LC)\n",
        "      LC = LC + int(line[2])\n",
        "      continue  \n",
        "\n",
        "    if 'BC' in line:\n",
        "      lclist.append(LC)\n",
        "      print(\"branch on conidtion : \", LC)\n",
        "      LC+=1\n",
        "      continue\n",
        "\n",
        "  # Other cases:\n",
        "    for word in line:\n",
        "      # if symbol not in symbol table, then insert into symbol table\n",
        "      if not(word in emot[:,0]) and not(word.isnumeric()) and not(word in st.keys()) and word[0]!='=':\n",
        "            st[word] = LC         \n",
        "        \n",
        "      # if literal in line, then add it to literal table\n",
        "      if word[0]=='=':\n",
        "          lt.append([word[2], ''])  \n",
        "          iLT+=1\n",
        "\n",
        "      # Handling LTORG\n",
        "      if word == \"LTORG\":\n",
        "          is_ltorg = True\n",
        "          LTstart = pt[iPT]\n",
        "\n",
        "          # update current pool of literals\n",
        "          for i in range(LTstart, iLT):\n",
        "              lt[i][1] = LC    \n",
        "              # print(LC)    \n",
        "              lclist.append(LC)  \n",
        "              LC+=1 \n",
        "                        \n",
        "          # update pool table index and pool table\n",
        "          iPT+=1\n",
        "          pt.append(iLT)\n",
        "\n",
        "    # if LC is already updated by LTORG then don't update again\n",
        "    if not(is_ltorg):\n",
        "        lclist.append(LC)\n",
        "        LC+=1\n",
        "\n",
        "\n",
        "# remove unnecessary iLT stored in pt\n",
        "if pt[-1] == len(lt):\n",
        "  pt.pop()\n",
        "\n",
        "# storing literal address for remaining literals\n",
        "for i in range(0, len(lt)):\n",
        "    if(lt[i][1]==\"\"):\n",
        "      lt[i][1] = LC\n",
        "      LC += 1\n",
        "\n",
        "    \n",
        "print('Symbol table: \\n', st, '\\n')\n",
        "print('Literal table: \\n',lt, '\\n')\n",
        "print('Pool table: \\n',pt)\n",
        "\n",
        "print(lclist)"
      ]
    },
    {
      "cell_type": "markdown",
      "metadata": {
        "id": "w4bxnJT2rL7U"
      },
      "source": [
        "Getting class from emot table"
      ]
    },
    {
      "cell_type": "code",
      "execution_count": null,
      "metadata": {
        "colab": {
          "base_uri": "https://localhost:8080/"
        },
        "id": "Cy5wqasDoViG",
        "outputId": "9c3b62cd-c244-4afc-d0eb-38001da5e916"
      },
      "outputs": [
        {
          "name": "stdout",
          "output_type": "stream",
          "text": [
            "[[11  0]]\n",
            "11\n",
            "class of  START  is  3\n"
          ]
        }
      ],
      "source": [
        "index = np.argwhere(emot == \"START\")\n",
        "print(index)\n",
        "# print(type(index))\n",
        "cl = index[0][0]\n",
        "print(cl)\n",
        "\n",
        "print(\"class of \", emot[cl][0], \" is \" , emot[cl][1])"
      ]
    },
    {
      "cell_type": "markdown",
      "metadata": {
        "id": "4UrhWSitrOu7"
      },
      "source": [
        "function to return the type of symbol"
      ]
    },
    {
      "cell_type": "code",
      "execution_count": null,
      "metadata": {
        "id": "YTmaLrMwp9If"
      },
      "outputs": [],
      "source": [
        "def getClass(cl):\n",
        "  if cl == '1':\n",
        "    return \"IS\"\n",
        "  if cl == '2':\n",
        "    return \"DL\"\n",
        "  if cl == '3':\n",
        "    return \"AD\"\n",
        "  if cl == '4':\n",
        "    return \"RG\"\n",
        "  if cl == '5':\n",
        "    return \"CC\""
      ]
    },
    {
      "cell_type": "markdown",
      "metadata": {
        "id": "iE8MneFirS_c"
      },
      "source": [
        "Testing"
      ]
    },
    {
      "cell_type": "code",
      "execution_count": null,
      "metadata": {
        "colab": {
          "base_uri": "https://localhost:8080/"
        },
        "id": "R3UJYXNpqSzc",
        "outputId": "b68e70d9-427f-4d8a-c9a9-421079f4377b"
      },
      "outputs": [
        {
          "name": "stdout",
          "output_type": "stream",
          "text": [
            "( IS , 05 )\n"
          ]
        }
      ],
      "source": [
        "word = \"MOVEM\"\n",
        "index = np.argwhere(emot == word)\n",
        "\n",
        "\n",
        "word_index = index[0][0]\n",
        "class_index = emot[word_index][1]\n",
        "op_code = emot[word_index][2]\n",
        "\n",
        "ic_ = getClass(class_index)\n",
        "\n",
        "print(\"(\", ic_, \",\", op_code, \")\")"
      ]
    },
    {
      "cell_type": "markdown",
      "metadata": {
        "id": "Yca53VMssHXU"
      },
      "source": [
        "function to do above job"
      ]
    },
    {
      "cell_type": "code",
      "execution_count": null,
      "metadata": {
        "colab": {
          "base_uri": "https://localhost:8080/"
        },
        "id": "tEXEqF-WsG0d",
        "outputId": "451e0992-1a8d-4dad-c092-204b9f12dfb6"
      },
      "outputs": [
        {
          "name": "stdout",
          "output_type": "stream",
          "text": [
            "\t(AD,01) (C, 200 )\n",
            "200\t(IS,04)(RG,01)(L,0)\n",
            "201\t(IS,05)(RG,01)(S,0)\n",
            "202\t(S,1)(IS,04)(RG,02)(L,1)\n",
            "205\t(AD,03) (C, 205 )\n",
            "(DL, 02) (C,5)\n",
            "(DL, 02) (C,2)\n",
            "206\t(S,2)(IS,01)(RG,01)(L,2)\n",
            "207\t(IS,02)(RG,02)(L,1)\n",
            "208\t(IS,07)(CC,02)(S,3)\n",
            "(DL, 02) (C,1)\n",
            "(DL, 02) (C,2)\n",
            "209\t(S,3)(AD,04)(S,1)\n",
            "210\t(AD,03) (C, 216 )\n",
            "211\t(IS,03)(RG,03)(S,0)\n",
            "212\t(IS,00)\n",
            "\t(DL,01) (C, 1 )\n",
            "217\t(AD,02)\n"
          ]
        }
      ],
      "source": [
        "def find_in_st(word):\n",
        "  if word in st.keys():\n",
        "    return list(st).index(word)\n",
        "  return -1\n",
        "\n",
        "def find_in_lt(word):\n",
        "  number = word[2]\n",
        "  for i in range(len(lt)):\n",
        "    if lt[i][0]==number: \n",
        "      return i\n",
        "  return -1\n",
        "\n",
        "def getIC(word):\n",
        "  if word in emot[:,0]:\n",
        "    index = np.argwhere(emot == word)\n",
        "    word_index = index[0][0]\n",
        "    class_index = emot[word_index][1]\n",
        "    op_code = emot[word_index][2]\n",
        "    ic_ = getClass(class_index)\n",
        "    return \"(\"+ ic_+\",\"+ op_code+ \")\"\n",
        "  elif (find_in_st(word)!=-1):\n",
        "    return \"(S,\"+ str(find_in_st(word))+ \")\"\n",
        "  elif (find_in_lt(word)!=-1):\n",
        "    return \"(L,\"+ str(find_in_lt(word))+ \")\"\n",
        "\n",
        "iPTs = 0\n",
        "if(len(pt)>1):\n",
        "  iPTe = 1\n",
        "else:\n",
        "  iPTe = 0\n",
        "\n",
        "lc = 0\n",
        "\n",
        "for line in alp_code:\n",
        "  if \"START\" in line:     \n",
        "    print(\"\\t\" + getIC(\"START\") + \" \" + \"(C,\", line[1],\")\")\n",
        "    continue\n",
        "\n",
        "  if \"ORIGIN\" in line:\n",
        "    if '+' in line[1]:        \n",
        "      label = line[1].split('+')\n",
        "      address = int(st[label[0]]) + int(label[1])        \n",
        "      print(str(lclist[lc])+\"\\t\" + getIC(\"ORIGIN\") +\" \" + \"(C,\", address,\")\")\n",
        "      \n",
        "    elif '-' in line[1]:\n",
        "      label = line[1].split('-')\n",
        "      address = int(st[label[0]]) - int(label[1])        \n",
        "      print(str(lclist[lc])+\"\\t\" +  getIC(\"ORIGIN\") + \" \" + \"(C,\", address,\")\")\n",
        "    else:\n",
        "      address = int(st[line[1]])       \n",
        "      print(str(lclist[lc]) +\"\\t\" +  getIC(\"ORIGIN\") + \" \" +\"(C,\", address,\")\")\n",
        "    lc+=1\n",
        "    continue\n",
        "\n",
        "  if \"DS\" in line:\n",
        "      word = line[1]      \n",
        "      print(\"\\t\" + getIC(word) + \" \" +'(C,' , line[2],')')\n",
        "      lc+=1\n",
        "      continue   \n",
        "\n",
        "  if \"LTORG\" in line:\n",
        "    # fetch literals from literal table corresponding to pool table\n",
        "      if iPTs == iPTe:\n",
        "        print('(DL, 02) (C,' + lt[iPTs][0] +')')\n",
        "\n",
        "      if(iPTe  == len(pt)) :\n",
        "        for i in range(iPTe, len(lt)):\n",
        "          print('(DL, 02) (C,' + lt[i][0] +')')\n",
        "      else :\n",
        "        for i in range(pt[iPTs], pt[iPTe]):\n",
        "          print('(DL, 02) (C,' + lt[i][0] +')')\n",
        "      iPTs+=1\n",
        "      iPTe+=1\n",
        "      continue\n",
        "  string = str(lclist[lc]) + \"\\t\"\n",
        "  for word in line:\n",
        "    string += str(getIC(word))\n",
        "  print(string)\n",
        "  lc+=1\n",
        "\n",
        "\n",
        "if iPTs == len(pt)-1 and pt[iPTs]<=len(lt):\n",
        "  for i in range(pt[iPTs], len(lt)):\n",
        "    print('\\t(DL, 02) (C,' + lt[i][0] +')')\n"
      ]
    }
  ],
  "metadata": {
    "colab": {
      "provenance": []
    },
    "kernelspec": {
      "display_name": "Python 3",
      "language": "python",
      "name": "python3"
    },
    "language_info": {
      "codemirror_mode": {
        "name": "ipython",
        "version": 3
      },
      "file_extension": ".py",
      "mimetype": "text/x-python",
      "name": "python",
      "nbconvert_exporter": "python",
      "pygments_lexer": "ipython3",
      "version": "3.10.4"
    },
    "vscode": {
      "interpreter": {
        "hash": "401593458b657814b12e40d8a3434e9873953000cc695b3475ad88a75cc418de"
      }
    }
  },
  "nbformat": 4,
  "nbformat_minor": 0
}
