{
  "cells": [
    {
      "cell_type": "markdown",
      "metadata": {
        "id": "_fLqZ6wd2Po2"
      },
      "source": [
        "WEEK1\n"
      ]
    },
    {
      "cell_type": "code",
      "execution_count": null,
      "metadata": {
        "id": "fkpeLRsaqdgd"
      },
      "outputs": [],
      "source": [
        "from google.colab import drive"
      ]
    },
    {
      "cell_type": "code",
      "execution_count": null,
      "metadata": {
        "colab": {
          "base_uri": "https://localhost:8080/"
        },
        "id": "arYECwChrQTc",
        "outputId": "7077fa73-ce13-4885-8bd7-776953b01bdf"
      },
      "outputs": [
        {
          "name": "stdout",
          "output_type": "stream",
          "text": [
            "Mounted at /content/drive\n"
          ]
        }
      ],
      "source": [
        "drive.mount('/content/drive')"
      ]
    },
    {
      "cell_type": "code",
      "execution_count": 1,
      "metadata": {
        "id": "imXV1sYOt3oK"
      },
      "outputs": [],
      "source": [
        "f = open('assi2_1_input.txt').read().replace(',','')\n",
        "code = f.split('\\n')\n",
        "alp_code = []\n",
        "for line in code:\n",
        "    temp_list = line.split()\n",
        "    alp_code.append(temp_list)"
      ]
    },
    {
      "cell_type": "markdown",
      "metadata": {
        "id": "86mvU48LfWVL"
      },
      "source": [
        "Print ALP code"
      ]
    },
    {
      "cell_type": "code",
      "execution_count": 2,
      "metadata": {
        "colab": {
          "base_uri": "https://localhost:8080/"
        },
        "id": "SS2Fe4i7uT88",
        "outputId": "b201ae97-3ed2-4963-8971-2c38962aee49"
      },
      "outputs": [
        {
          "data": {
            "text/plain": [
              "[['MACRO', 'ADDS'],\n",
              " ['MOVER', 'AREG', \"='1'\"],\n",
              " ['ADD', 'AREG', \"='2'\"],\n",
              " ['MOVEM', 'AREG', 'X'],\n",
              " ['MEND'],\n",
              " ['MACRO', 'SUBS'],\n",
              " ['MOVER', 'BREG', 'X'],\n",
              " ['SUB', 'BREG', 'Y'],\n",
              " ['MOVEM', 'BREGX'],\n",
              " ['WRITE', 'Y'],\n",
              " ['MEND'],\n",
              " ['START', '200'],\n",
              " ['READ', 'N1'],\n",
              " ['READ', 'N2'],\n",
              " ['ADDS'],\n",
              " ['SUBS'],\n",
              " ['N1', 'DS', '2'],\n",
              " ['N2', 'DS', '2'],\n",
              " ['N3', 'DS', '2'],\n",
              " ['N4', 'DS', '2'],\n",
              " ['END']]"
            ]
          },
          "execution_count": 2,
          "metadata": {},
          "output_type": "execute_result"
        }
      ],
      "source": [
        "alp_code"
      ]
    },
    {
      "cell_type": "markdown",
      "metadata": {
        "id": "CPFwEyDdfYc5"
      },
      "source": [
        "Print MNT, MDT, IC for Sample 1"
      ]
    },
    {
      "cell_type": "code",
      "execution_count": 3,
      "metadata": {
        "colab": {
          "base_uri": "https://localhost:8080/"
        },
        "id": "4CIJL_DWtgp7",
        "outputId": "fc9e41a7-6162-4933-9407-bb869bab373f"
      },
      "outputs": [
        {
          "name": "stdout",
          "output_type": "stream",
          "text": [
            "MNT: \n",
            "[['ADDS', 0], ['SUBS', 4]]\n",
            "MDT: \n",
            "[ ['MOVER', 'AREG', \"='1'\"],\n",
            "  ['ADD', 'AREG', \"='2'\"],\n",
            "  ['MOVEM', 'AREG', 'X'],\n",
            "  ['MEND'],\n",
            "  ['MOVER', 'BREG', 'X'],\n",
            "  ['SUB', 'BREG', 'Y'],\n",
            "  ['MOVEM', 'BREGX'],\n",
            "  ['WRITE', 'Y'],\n",
            "  ['MEND']]\n",
            "IC: \n",
            "[ ['START', '200'],\n",
            "  ['READ', 'N1'],\n",
            "  ['READ', 'N2'],\n",
            "  ['ADDS'],\n",
            "  ['SUBS'],\n",
            "  ['N1', 'DS', '2'],\n",
            "  ['N2', 'DS', '2'],\n",
            "  ['N3', 'DS', '2'],\n",
            "  ['N4', 'DS', '2'],\n",
            "  ['END']]\n"
          ]
        }
      ],
      "source": [
        "import pprint\n",
        "\n",
        "MNT = []\n",
        "MDT = []\n",
        "IC = []\n",
        "\n",
        "i = 0\n",
        "while(i< len(alp_code)):\n",
        "  # when macro has no parameters\n",
        "  if 'MACRO' in alp_code[i]:\n",
        "    MNT.append([alp_code[i][1], len(MDT)])\n",
        "    j = i+1\n",
        "    while 'MEND' not in alp_code[j]:\n",
        "      MDT.append(alp_code[j])\n",
        "      j+=1\n",
        "    MDT.append(['MEND'])\n",
        "    i = j+1\n",
        "  else:\n",
        "    IC.append(alp_code[i])\n",
        "    i+=1\n",
        "\n",
        "pp = pprint.PrettyPrinter(indent=2)\n",
        "\n",
        "print('MNT: ')\n",
        "pp.pprint(MNT)\n",
        "print('MDT: ')\n",
        "pp.pprint(MDT)\n",
        "print('IC: ')\n",
        "pp.pprint(IC)"
      ]
    },
    {
      "cell_type": "code",
      "execution_count": null,
      "metadata": {
        "colab": {
          "base_uri": "https://localhost:8080/"
        },
        "id": "8UZwT5mlfiw6",
        "outputId": "35532962-5487-44c8-c47d-310d64114ef6"
      },
      "outputs": [
        {
          "name": "stdout",
          "output_type": "stream",
          "text": [
            "MNT: \n",
            "[['ADDS', 0], ['SUBS', 4]]\n",
            "MDT: \n",
            "[ ['MOVER', 'AREG', \"='1'\"],\n",
            "  ['ADD', 'AREG', \"='2'\"],\n",
            "  ['MOVEM', 'AREG', 'X'],\n",
            "  ['MEND'],\n",
            "  ['MOVER', 'BREG', 'X'],\n",
            "  ['SUB', 'BREG', 'Y'],\n",
            "  ['MOVEM', 'BREG', 'X'],\n",
            "  ['WRITE', 'Y'],\n",
            "  ['MEND']]\n",
            "IC: \n",
            "[ ['START', '200'],\n",
            "  ['READ', 'N1'],\n",
            "  ['READ', 'N2'],\n",
            "  ['ADDS'],\n",
            "  ['SUBS'],\n",
            "  ['N1', 'DS', '2'],\n",
            "  ['N2', 'DS', '2'],\n",
            "  ['N3', 'DS', '2'],\n",
            "  ['N4', 'DS', '2'],\n",
            "  ['END']]\n"
          ]
        }
      ],
      "source": [
        "import pprint\n",
        "\n",
        "MNT = []\n",
        "MDT = []\n",
        "IC = []\n",
        "\n",
        "i = 0\n",
        "while(i< len(alp_code)):\n",
        "  if 'MACRO' in alp_code[i]:\n",
        "    MNT.append([alp_code[i][1], len(MDT)])\n",
        "    j = i+1\n",
        "    while 'MEND' not in alp_code[j]:\n",
        "      MDT.append(alp_code[j])\n",
        "      j+=1\n",
        "    MDT.append(['MEND'])\n",
        "    i = j+1\n",
        "  else:\n",
        "    IC.append(alp_code[i])\n",
        "    i+=1\n",
        "\n",
        "pp = pprint.PrettyPrinter(indent=2)\n",
        "\n",
        "print('MNT: ')\n",
        "pp.pprint(MNT)\n",
        "print('MDT: ')\n",
        "pp.pprint(MDT)\n",
        "print('IC: ')\n",
        "pp.pprint(IC)"
      ]
    },
    {
      "cell_type": "markdown",
      "metadata": {
        "id": "LxIDMlphFudp"
      },
      "source": [
        "Print MNT, MDT, IC for Sample 2"
      ]
    },
    {
      "cell_type": "code",
      "execution_count": null,
      "metadata": {
        "id": "dZjUzUF-AHq0"
      },
      "outputs": [],
      "source": [
        "f = open('/content/drive/MyDrive/a2_w2_s2.txt').read().replace(',','')\n",
        "code = f.split('\\n')\n",
        "alp_code = []\n",
        "for line in code:\n",
        "    temp_list = line.split()\n",
        "    alp_code.append(temp_list)"
      ]
    },
    {
      "cell_type": "code",
      "execution_count": null,
      "metadata": {
        "colab": {
          "base_uri": "https://localhost:8080/"
        },
        "id": "ph4uaD2LAW1i",
        "outputId": "59c5027b-9ef7-4280-fa49-52ea97ed2ef8"
      },
      "outputs": [
        {
          "data": {
            "text/plain": [
              "[['MACRO', 'INCR', '&A', '&B', '&REG=CREG'],\n",
              " ['MOVER', '&REG', '&A'],\n",
              " ['ADDS1', '&A', '&B'],\n",
              " ['MOVEM', '&REG', '&A'],\n",
              " ['MEND'],\n",
              " ['MACRO', 'ADDS1', '&C', '&D'],\n",
              " ['MOVER', 'AREG', '&C'],\n",
              " ['ADD', 'AREG', '&D'],\n",
              " ['MOVEM', 'AREG', '&D'],\n",
              " ['WRITE', '&D'],\n",
              " ['MEND'],\n",
              " ['MACRO', 'SUBS1', '&C1', '&D1'],\n",
              " ['MOVER', 'BREG', '&C1'],\n",
              " ['SUB', 'BREG', '&D1'],\n",
              " ['MOVEM', 'BREG', '&D1'],\n",
              " ['WRITE', '&D1'],\n",
              " ['MEND'],\n",
              " ['START', '200'],\n",
              " ['READ', 'N1'],\n",
              " ['READ', 'N2'],\n",
              " ['ADDS1', 'N1', 'N2'],\n",
              " ['SUBS1', 'N1', 'N2'],\n",
              " ['READ', 'N1'],\n",
              " ['READ', 'N2'],\n",
              " ['INCR', 'N3', 'N4DREG'],\n",
              " ['STOP'],\n",
              " ['N1', 'DS', '2'],\n",
              " ['N2', 'DS', '2'],\n",
              " ['N3', 'DS', '2'],\n",
              " ['N4', 'DS', '2'],\n",
              " ['END']]"
            ]
          },
          "execution_count": 8,
          "metadata": {},
          "output_type": "execute_result"
        }
      ],
      "source": [
        "alp_code"
      ]
    },
    {
      "cell_type": "code",
      "execution_count": null,
      "metadata": {
        "colab": {
          "base_uri": "https://localhost:8080/"
        },
        "id": "1toYeIp86NZ5",
        "outputId": "55102ac7-2bd9-4e0b-dc67-59de71f22ad0"
      },
      "outputs": [
        {
          "name": "stdout",
          "output_type": "stream",
          "text": [
            "MNT: \n",
            "[['INCR', 0], ['ADDS1', 5], ['SUBS1', 11]]\n",
            "MDT: \n",
            "[ ['INCR', '&A', '&B', '&REG=CREG'],\n",
            "  ['MOVER', '#2', '#0'],\n",
            "  ['ADDS1', '#0', '#1'],\n",
            "  ['MOVEM', '#2', '#0'],\n",
            "  ['MEND'],\n",
            "  ['ADDS1', '&C', '&D'],\n",
            "  ['MOVER', 'AREG', '#0'],\n",
            "  ['ADD', 'AREG', '#1'],\n",
            "  ['MOVEM', 'AREG', '#1'],\n",
            "  ['WRITE', '#1'],\n",
            "  ['MEND'],\n",
            "  ['SUBS1', '&C1', '&D1'],\n",
            "  ['MOVER', 'BREG', '#0'],\n",
            "  ['SUB', 'BREG', '#1'],\n",
            "  ['MOVEM', 'BREG', '#1'],\n",
            "  ['WRITE', '#1'],\n",
            "  ['MEND']]\n",
            "IC: \n",
            "[ ['START', '200'],\n",
            "  ['READ', 'N1'],\n",
            "  ['READ', 'N2'],\n",
            "  ['ADDS1', 'N1', 'N2'],\n",
            "  ['SUBS1', 'N1', 'N2'],\n",
            "  ['READ', 'N1'],\n",
            "  ['READ', 'N2'],\n",
            "  ['INCR', 'N3', 'N4DREG'],\n",
            "  ['STOP'],\n",
            "  ['N1', 'DS', '2'],\n",
            "  ['N2', 'DS', '2'],\n",
            "  ['N3', 'DS', '2'],\n",
            "  ['N4', 'DS', '2'],\n",
            "  ['END']]\n"
          ]
        }
      ],
      "source": [
        "import pprint\n",
        "\n",
        "MNT = []\n",
        "MDT = []\n",
        "IC = []\n",
        "\n",
        "i = 0\n",
        "while(i< len(alp_code)):\n",
        "  if 'MACRO' in alp_code[i]:\n",
        "    MNT.append([alp_code[i][1], len(MDT)])\n",
        "    # \n",
        "    aal = {}\n",
        "    for k in range(2, len(alp_code[i])):\n",
        "      temp = []\n",
        "      if('=' in alp_code[i][k]):\n",
        "       temp =  alp_code[i][k].split('=')\n",
        "       aal[temp[0]] = '#' + str(k-2)\n",
        "      else:\n",
        "        aal[alp_code[i][k]] = '#' + str(k-2)\n",
        "\n",
        "    temp = []\n",
        "    for k in range(1, len(alp_code[i])):\n",
        "      temp.append(alp_code[i][k])\n",
        "    #  \n",
        "    MDT.append(temp)\n",
        "    \n",
        "    j = i+1   \n",
        "\n",
        "    while 'MEND' not in alp_code[j]:\n",
        "      temp = []\n",
        "      for k in range(0, len(alp_code[j])):\n",
        "        if(alp_code[j][k] in aal):\n",
        "          temp.append(aal[alp_code[j][k]])\n",
        "        else:\n",
        "          temp.append(alp_code[j][k])\n",
        "      MDT.append(temp)\n",
        "      j+=1\n",
        "    MDT.append(['MEND'])\n",
        "    i = j+1\n",
        "  else:\n",
        "    IC.append(alp_code[i])\n",
        "    i+=1\n",
        "\n",
        "pp = pprint.PrettyPrinter(indent=2)\n",
        "\n",
        "print('MNT: ')\n",
        "pp.pprint(MNT)\n",
        "print('MDT: ')\n",
        "pp.pprint(MDT)\n",
        "print('IC: ')\n",
        "pp.pprint(IC)"
      ]
    },
    {
      "cell_type": "markdown",
      "metadata": {
        "id": "l8bv8Ct-yExz"
      },
      "source": [
        "Sample 3\n",
        "\n"
      ]
    },
    {
      "cell_type": "code",
      "execution_count": 4,
      "metadata": {
        "id": "5BnYZNS1q6Zz"
      },
      "outputs": [],
      "source": [
        "f = open('a2_3_input.txt').read().replace(',','')\n",
        "code = f.split('\\n')\n",
        "alp_code = []\n",
        "for line in code:\n",
        "    temp_list = line.split()\n",
        "    alp_code.append(temp_list)"
      ]
    },
    {
      "cell_type": "code",
      "execution_count": 5,
      "metadata": {
        "colab": {
          "base_uri": "https://localhost:8080/"
        },
        "id": "2LTNbiydq-2V",
        "outputId": "3882eaaf-ad78-43c5-f040-ff40d9ed4ade"
      },
      "outputs": [
        {
          "data": {
            "text/plain": [
              "[['LOAD', 'A'],\n",
              " ['STORE', 'B'],\n",
              " ['MACRO', 'ABC'],\n",
              " ['LOAD', 'p'],\n",
              " ['SUB', 'q'],\n",
              " ['MEND'],\n",
              " ['MACRO', 'ADD1', 'ARG'],\n",
              " ['LOAD', 'X'],\n",
              " ['STORE', 'ARG'],\n",
              " ['MEND'],\n",
              " ['MACRO', 'ADD5', 'A1', 'A2', 'A3'],\n",
              " ['STORE', 'A2'],\n",
              " ['ADD1', '5'],\n",
              " ['ADD1', '10'],\n",
              " ['LOAD', 'A1'],\n",
              " ['LOAD', 'A3'],\n",
              " ['MEND'],\n",
              " ['ABC'],\n",
              " ['ADD5', 'D1', 'D2', 'D3'],\n",
              " ['END']]"
            ]
          },
          "execution_count": 5,
          "metadata": {},
          "output_type": "execute_result"
        }
      ],
      "source": [
        "alp_code"
      ]
    },
    {
      "cell_type": "code",
      "execution_count": 6,
      "metadata": {
        "colab": {
          "base_uri": "https://localhost:8080/"
        },
        "id": "bovsEtEWrEcU",
        "outputId": "68ef029c-1043-438d-cea8-2bda4e7b7a93"
      },
      "outputs": [
        {
          "name": "stdout",
          "output_type": "stream",
          "text": [
            "formal vs positional params:  ADD1\n",
            "{'ARG': '#1'}\n",
            "\n",
            "formal vs positional params:  ADD5\n",
            "{'A1': '#1', 'A2': '#2', 'A3': '#3'}\n",
            "\n",
            "1actual vs positional params:  ADD1\n",
            "[['5', '#1']]\n",
            "\n",
            "1actual vs positional params:  ADD1\n",
            "[['10', '#1']]\n",
            "\n",
            "actual vs positional params:  ABC\n",
            "[]\n",
            "\n",
            "actual vs positional params:  ADD5\n",
            "[['D1', '#1'], ['D2', '#2'], ['D3', '#3']]\n",
            "\n",
            "MNT: \n",
            "{'ABC': 1, 'ADD1': 4, 'ADD5': 7}\n",
            "\n",
            "MDT: \n",
            "[ ['LOAD', 'p'],\n",
            "  ['SUB', 'q'],\n",
            "  ['MEND'],\n",
            "  ['LOAD', 'X'],\n",
            "  ['STORE', '#1'],\n",
            "  ['MEND'],\n",
            "  ['STORE', '#2'],\n",
            "  [],\n",
            "  [],\n",
            "  ['LOAD', '#1'],\n",
            "  ['LOAD', '#3'],\n",
            "  ['MEND']]\n",
            "\n",
            "IC: \n",
            "[['LOAD', 'A'], ['STORE', 'B'], ['ABC'], ['ADD5', 'D1', 'D2', 'D3'], ['END']]\n",
            "\n"
          ]
        }
      ],
      "source": [
        "import pprint\n",
        "\n",
        "MNT = {}\n",
        "MDT = []\n",
        "IC = []\n",
        "\n",
        "i = 0\n",
        "while(i< len(alp_code)):\n",
        "  if 'MACRO' in alp_code[i]:\n",
        "    # insert macro name in MNT\n",
        "    MNT[alp_code[i][1]] = len(MDT) + 1\n",
        "    # MNT.append([alp_code[i][1], len(MDT) + 1])\n",
        "\n",
        "    # look for parameters in macro and prepare argument array list (aal)\n",
        "    aal = {}\n",
        "    for k in range(2, len(alp_code[i])):\n",
        "      temp = []\n",
        "      if('=' in alp_code[i][k]):\n",
        "       temp =  alp_code[i][k].split('=')\n",
        "       aal[temp[0]] = '#' + str(k-2 + 1)\n",
        "      else:\n",
        "        aal[alp_code[i][k]] = '#' + str(k-2 + 1)\n",
        "\n",
        "    # formal params vs postional params\n",
        "    if(len(aal) != 0):\n",
        "      mntlist = list(MNT.items())\n",
        "      print('formal vs positional params: ' , mntlist[len(mntlist)-1][0]) \n",
        "      print(aal)    \n",
        "      print()\n",
        "\n",
        "    j = i+1   \n",
        "    # copy macro contents to MDT\n",
        "    while 'MEND' not in alp_code[j]:\n",
        "      temp = []\n",
        "\n",
        "      # ACTUAL params vs postional params\n",
        "      if alp_code[j][0] in MNT.keys():\n",
        "        print('actual vs positional params: ' ,alp_code[j][0]) \n",
        "        avsp = []\n",
        "        for k in range(1, len(alp_code[j])):\n",
        "          avsp.append([alp_code[j][k], f'#{k}'])\n",
        "        print(avsp)\n",
        "        print()\n",
        "      else:\n",
        "        for k in range(0, len(alp_code[j])):\n",
        "          if(alp_code[j][k] in aal):\n",
        "            temp.append(aal[alp_code[j][k]])\n",
        "          else:\n",
        "            temp.append(alp_code[j][k])\n",
        "\n",
        "        \n",
        "      MDT.append(temp)\n",
        "      j+=1\n",
        "    MDT.append(['MEND'])\n",
        "    i = j+1\n",
        "  else:\n",
        "    IC.append(alp_code[i])\n",
        "\n",
        "    # ACTUAL params vs postional params\n",
        "    avsp = []\n",
        "    if alp_code[i][0] in MNT.keys():\n",
        "      print('actual vs positional params: ' , alp_code[i][0])\n",
        "      for j in range(1, len(alp_code[i])):\n",
        "        avsp.append([alp_code[i][j], f'#{j}'])\n",
        "      print(avsp)\n",
        "      print()\n",
        "\n",
        "    i+=1\n",
        "\n",
        "pp = pprint.PrettyPrinter(indent=2)\n",
        "\n",
        "print('MNT: ')\n",
        "pp.pprint(MNT)\n",
        "print()\n",
        "print('MDT: ')\n",
        "pp.pprint(MDT)\n",
        "print()\n",
        "print('IC: ')\n",
        "pp.pprint(IC)\n",
        "print()"
      ]
    },
    {
      "cell_type": "markdown",
      "metadata": {
        "id": "60UWHrBXF5eY"
      },
      "source": [
        "Modifying Pass 1"
      ]
    },
    {
      "cell_type": "code",
      "execution_count": null,
      "metadata": {
        "colab": {
          "base_uri": "https://localhost:8080/"
        },
        "id": "Syj2NqpaGdSi",
        "outputId": "34eddc0f-421b-4c3b-acd7-c8123b14074f"
      },
      "outputs": [
        {
          "data": {
            "text/plain": [
              "[['LOAD', 'A'],\n",
              " ['STORE', 'B'],\n",
              " ['MACRO', 'ABC'],\n",
              " ['LOAD', 'p'],\n",
              " ['SUB', 'q'],\n",
              " ['MEND'],\n",
              " ['MACRO', 'ADD1', 'ARG'],\n",
              " ['LOAD', 'X'],\n",
              " ['STORE', 'ARG'],\n",
              " ['MEND'],\n",
              " ['MACRO', 'ADD5', 'A1', 'A2', 'A3'],\n",
              " ['STORE', 'A2'],\n",
              " ['ADD1', '5'],\n",
              " ['ADD1', '10'],\n",
              " ['LOAD', 'A1'],\n",
              " ['LOAD', 'A3'],\n",
              " ['MEND'],\n",
              " ['ABC'],\n",
              " ['ADD5', 'D1', 'D2', 'D3'],\n",
              " ['END']]"
            ]
          },
          "execution_count": 18,
          "metadata": {},
          "output_type": "execute_result"
        }
      ],
      "source": [
        "alp_code"
      ]
    },
    {
      "cell_type": "code",
      "execution_count": null,
      "metadata": {
        "colab": {
          "base_uri": "https://localhost:8080/"
        },
        "id": "CRVKM1hWF2Gx",
        "outputId": "be806eb9-2395-4aa1-8c8a-879a0ff47bb7"
      },
      "outputs": [
        {
          "name": "stdout",
          "output_type": "stream",
          "text": [
            "MNT: \n",
            "{'ABC': [0, 0], 'ADD1': [3, 1], 'ADD5': [6, 3]}\n",
            "MDT: \n",
            "[ ['LOAD', 'p'],\n",
            "  ['SUB', 'q'],\n",
            "  ['MEND'],\n",
            "  ['LOAD', 'X'],\n",
            "  ['STORE', 'ARG'],\n",
            "  ['MEND'],\n",
            "  ['STORE', 'A2'],\n",
            "  ['LOAD', 'X'],\n",
            "  ['STORE', 'ARG'],\n",
            "  ['LOAD', 'X'],\n",
            "  ['STORE', 'ARG'],\n",
            "  ['LOAD', 'A1'],\n",
            "  ['LOAD', 'A3'],\n",
            "  ['MEND']]\n",
            "IC: \n",
            "[['LOAD', 'A'], ['STORE', 'B'], ['ABC'], ['ADD5', 'D1', 'D2', 'D3'], ['END']]\n"
          ]
        }
      ],
      "source": [
        "import pprint\n",
        "\n",
        "def getFromMDT(MDT, mdtptr):\n",
        "  for ptr in range(mdtptr, len(MDT) ):   \n",
        "    if 'MEND' in MDT[ptr]:\n",
        "      break\n",
        "    # TODO: check if there is a nested call again!\n",
        "    MDT.append(MDT[ptr])\n",
        "\n",
        "\n",
        "def addToMDT(alp_code, idx):\n",
        "\n",
        "    # add macro definition in MDT table\n",
        "    while('MEND' not in alp_code[idx]): \n",
        "\n",
        "      # check if there is any nested call\n",
        "      if alp_code[idx][0] in MNT.keys():\n",
        "\n",
        "        # copy MDT contents with help of mdtptr\n",
        "        mdtptr = MNT[alp_code[idx][0]][0]\n",
        "        getFromMDT(MDT, mdtptr)\n",
        "      else:\n",
        "        MDT.append(alp_code[idx])\n",
        "      idx += 1\n",
        "\n",
        "    MDT.append(['MEND'])\n",
        "    return idx+1\n",
        "\n",
        "MNT = {}\n",
        "MDT = []\n",
        "IC = []\n",
        "\n",
        "mdtptr = 0\n",
        "\n",
        "i = 0\n",
        "while(i< len(alp_code)):  \n",
        "  if 'MACRO' in alp_code[i]:\n",
        "    # add macro name in MNT table\n",
        "    MNT[alp_code[i][1]] = [mdtptr]\n",
        "\n",
        "    # if arguments exists then add to argument list array\n",
        "    AAL = {}\n",
        "    for argsidx in range(2, len(alp_code[i])):\n",
        "      AAL[alp_code[i][argsidx]] = '#' + str(argsidx-2)\n",
        "    # add number of parameter to MNT \n",
        "    MNT[alp_code[i][1]].append(len(AAL))\n",
        "\n",
        "    # TODO: acc to AAL edit the parameters in MDT\n",
        "    i = addToMDT(alp_code, i+1)\n",
        "\n",
        "    mdtptr = len(MDT)\n",
        "  \n",
        "  else:\n",
        "    IC.append(alp_code[i])\n",
        "    i += 1\n",
        "  \n",
        "\n",
        "# pp = pprint.PrettyPrinter(indent=2)\n",
        "\n",
        "print('MNT: ')\n",
        "pp.pprint(MNT)\n",
        "# print()\n",
        "print('MDT: ')\n",
        "pp.pprint(MDT)\n",
        "# print()\n",
        "print('IC: ')\n",
        "pp.pprint(IC)\n",
        "# print()"
      ]
    },
    {
      "cell_type": "markdown",
      "metadata": {
        "id": "RfBz5dybEcyq"
      },
      "source": [
        "Pass 2 implementation"
      ]
    }
  ],
  "metadata": {
    "colab": {
      "provenance": []
    },
    "kernelspec": {
      "display_name": "Python 3",
      "language": "python",
      "name": "python3"
    },
    "language_info": {
      "codemirror_mode": {
        "name": "ipython",
        "version": 3
      },
      "file_extension": ".py",
      "mimetype": "text/x-python",
      "name": "python",
      "nbconvert_exporter": "python",
      "pygments_lexer": "ipython3",
      "version": "3.10.4"
    },
    "vscode": {
      "interpreter": {
        "hash": "401593458b657814b12e40d8a3434e9873953000cc695b3475ad88a75cc418de"
      }
    }
  },
  "nbformat": 4,
  "nbformat_minor": 0
}
